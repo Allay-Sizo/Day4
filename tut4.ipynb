{
  "cells": [
    {
      "cell_type": "markdown",
      "metadata": {
        "id": "view-in-github",
        "colab_type": "text"
      },
      "source": [
        "<a href=\"https://colab.research.google.com/github/Allay-Sizo/Day4/blob/main/tut4.ipynb\" target=\"_parent\"><img src=\"https://colab.research.google.com/assets/colab-badge.svg\" alt=\"Open In Colab\"/></a>"
      ]
    },
    {
      "cell_type": "code",
      "source": [
        "import apache_beam as beam\n",
        "\n",
        "\n",
        "def format_record(record):\n",
        "    return f\"{record['id']};{record['name']};{record['gender']};{record['age']}; \" \\\n",
        "           f\"{record['city']},{record['state']},{record['zip']};{record['date']}\"\n",
        "\n",
        "\n",
        "data = [\n",
        "    {\"id\": 1, \"name\": \"Amy Sullivan\", \"gender\": \"Female\", \"age\": 20,\n",
        "     \"city\": \"Westlake\", \"state\": \"OH\", \"zip\": \"44145\", \"date\": \"2020-08-31\"},\n",
        "    {\"id\": 1, \"name\": \"Paige Dixon\", \"gender\": \"Female\", \"age\": 43,\n",
        "     \"city\": \"Hicksville\", \"state\": \"NY\", \"zip\": \"11801\", \"date\": \"2020-03-22\"}\n",
        "]\n",
        "\n",
        "with beam.Pipeline() as pipeline:\n",
        "    (\n",
        "        pipeline\n",
        "        | \"Create input\" >> beam.Create(data)\n",
        "        | \"Format records\" >> beam.Map(format_record)\n",
        "        | \"Print output\" >> beam.Map(print)\n",
        "    )\n"
      ],
      "metadata": {
        "id": "C7GRiGnPhGp8",
        "outputId": "0b49025f-6537-4ae5-88f5-fe23684c2b57",
        "colab": {
          "base_uri": "https://localhost:8080/"
        }
      },
      "execution_count": null,
      "outputs": [
        {
          "output_type": "stream",
          "name": "stdout",
          "text": [
            "1;Amy Sullivan;Female;20; Westlake,OH,44145;2020-08-31\n",
            "1;Paige Dixon;Female;43; Hicksville,NY,11801;2020-03-22\n"
          ]
        }
      ]
    },
    {
      "cell_type": "code",
      "source": [
        "import apache_beam as beam\n",
        "from apache_beam.options.pipeline_options import PipelineOptions\n",
        "\n",
        "\n",
        "pipeline_options = PipelineOptions()\n",
        "with beam.Pipeline(options=pipeline_options) as pipeline:\n",
        "\n",
        "    (\n",
        "        pipeline\n",
        "        | \"Create sample data\" >> beam.Create([\n",
        "            {\"id\": 1, \"name\": \"Amy Sullivan\", \"gender\": \"Female\", \"age\": 20,\n",
        "             \"city\": \"Westlake\", \"state\": \"OH\", \"zip\": \"44145\", \"date\": \"2020-08-31\"},\n",
        "            {\"id\": 2, \"name\": \"Paige Dixon\", \"gender\": \"Female\", \"age\": 43,\n",
        "             \"city\": \"Hicksville\", \"state\": \"NY\", \"zip\": \"11801\", \"date\": \"2020-03-22\"},\n",
        "            {\"id\": 3, \"name\": \"John Smith\", \"gender\": \"Male\", \"age\": 35,\n",
        "             \"city\": \"Cleveland\", \"state\": \"OH\", \"zip\": \"44109\", \"date\": \"2020-05-11\"},\n",
        "            {\"id\": 4, \"name\": \"Maria Lopez\", \"gender\": \"Female\", \"age\": 29,\n",
        "             \"city\": \"Miami\", \"state\": \"FL\", \"zip\": \"33101\", \"date\": \"2020-06-15\"},\n",
        "            {\"id\": 5, \"name\": \"James Carter\", \"gender\": \"Male\", \"age\": 52,\n",
        "             \"city\": \"Dallas\", \"state\": \"TX\", \"zip\": \"75201\", \"date\": \"2020-07-20\"},\n",
        "            {\"id\": 6, \"name\": \"Sophia Chen\", \"gender\": \"Female\", \"age\": 31,\n",
        "             \"city\": \"Seattle\", \"state\": \"WA\", \"zip\": \"98101\", \"date\": \"2020-02-19\"},\n",
        "            {\"id\": 7, \"name\": \"Michael Brown\", \"gender\": \"Male\", \"age\": 27,\n",
        "             \"city\": \"Denver\", \"state\": \"CO\", \"zip\": \"80202\", \"date\": \"2020-04-05\"},\n",
        "            {\"id\": 8, \"name\": \"Emily Davis\", \"gender\": \"Female\", \"age\": 38,\n",
        "             \"city\": \"Boston\", \"state\": \"MA\", \"zip\": \"02108\", \"date\": \"2020-09-12\"}\n",
        "        ])\n",
        "        | \"Map gender to count\" >> beam.Map(lambda r: (r['gender'], 1))\n",
        "        | \"Count per gender\" >> beam.CombinePerKey(sum)\n",
        "        | \"Format output\" >> beam.Map(lambda kv: f\"{kv[0]}: {kv[1]}\")\n",
        "        | \"Print results\" >> beam.Map(print)\n",
        "    )\n"
      ],
      "metadata": {
        "id": "3fIOQQeahDOl",
        "outputId": "e7283dc9-1ad7-43e2-a29c-977cc5ba25ca",
        "colab": {
          "base_uri": "https://localhost:8080/"
        }
      },
      "execution_count": null,
      "outputs": [
        {
          "output_type": "stream",
          "name": "stderr",
          "text": [
            "WARNING:apache_beam.options.pipeline_options:Discarding unparseable args: ['-f', '/root/.local/share/jupyter/runtime/kernel-1df5572c-e7e7-4cfe-aff3-b14d06ce38b4.json']\n",
            "WARNING:apache_beam.options.pipeline_options:Discarding unparseable args: ['-f', '/root/.local/share/jupyter/runtime/kernel-1df5572c-e7e7-4cfe-aff3-b14d06ce38b4.json']\n"
          ]
        },
        {
          "output_type": "stream",
          "name": "stdout",
          "text": [
            "Female: 5\n",
            "Male: 3\n"
          ]
        }
      ]
    },
    {
      "cell_type": "code",
      "source": [
        "import apache_beam as beam\n",
        "from apache_beam.options.pipeline_options import PipelineOptions\n",
        "\n",
        "def to_kv_state(_row):\n",
        "    return _row['state'], 1\n",
        "\n",
        "def fmt(kv):\n",
        "    state, count = kv\n",
        "    return f\"{state}: {count}\"\n",
        "\n",
        "if __name__ == \"__main__\":\n",
        "\n",
        "    pipeline_options = PipelineOptions()\n",
        "    with beam.Pipeline(options=pipeline_options) as pipeline:\n",
        "\n",
        "        counts = (\n",
        "            pipeline\n",
        "            | \"Create sample data\" >> beam.Create([\n",
        "                {\"id\": 1, \"name\": \"Amy Sullivan\", \"gender\": \"Female\", \"age\": 20,\n",
        "                 \"city\": \"Westlake\", \"state\": \"OH\", \"zip\": \"44145\", \"date\": \"2020-08-31\"},\n",
        "                {\"id\": 2, \"name\": \"Paige Dixon\", \"gender\": \"Female\", \"age\": 43,\n",
        "                 \"city\": \"Hicksville\", \"state\": \"NY\", \"zip\": \"11801\", \"date\": \"2020-03-22\"},\n",
        "                {\"id\": 3, \"name\": \"John Smith\", \"gender\": \"Male\", \"age\": 35,\n",
        "                 \"city\": \"Cleveland\", \"state\": \"OH\", \"zip\": \"44109\", \"date\": \"2020-05-11\"},\n",
        "                {\"id\": 4, \"name\": \"Maria Lopez\", \"gender\": \"Female\", \"age\": 29,\n",
        "                 \"city\": \"Miami\", \"state\": \"FL\", \"zip\": \"33101\", \"date\": \"2020-06-15\"},\n",
        "                {\"id\": 5, \"name\": \"James Carter\", \"gender\": \"Male\", \"age\": 52,\n",
        "                 \"city\": \"Dallas\", \"state\": \"TX\", \"zip\": \"75201\", \"date\": \"2020-07-20\"},\n",
        "                {\"id\": 6, \"name\": \"Sophia Chen\", \"gender\": \"Female\", \"age\": 31,\n",
        "                 \"city\": \"Seattle\", \"state\": \"WA\", \"zip\": \"98101\", \"date\": \"2020-02-19\"},\n",
        "                {\"id\": 7, \"name\": \"Michael Brown\", \"gender\": \"Male\", \"age\": 27,\n",
        "                 \"city\": \"Denver\", \"state\": \"CO\", \"zip\": \"80202\", \"date\": \"2020-04-05\"},\n",
        "                {\"id\": 8, \"name\": \"Emily Davis\", \"gender\": \"Female\", \"age\": 38,\n",
        "                 \"city\": \"Boston\", \"state\": \"MA\", \"zip\": \"02108\", \"date\": \"2020-09-12\"}\n",
        "            ])\n",
        "            | \"Map state to 1\" >> beam.Map(to_kv_state)\n",
        "            | \"Count per state\" >> beam.CombinePerKey(sum)\n",
        "        )\n",
        "\n",
        "\n",
        "        _ = counts | \"Format for print\" >> beam.Map(fmt) | \"Print\" >> beam.Map(print)\n",
        "\n",
        "\n",
        "        _ = (counts\n",
        "             | \"Format for file\" >> beam.Map(fmt)\n",
        "             | \"Write to text\" >> beam.io.WriteToText(\"state_counts\", num_shards=1))\n"
      ],
      "metadata": {
        "id": "jLzS6imdhxeP",
        "outputId": "5cdd8a61-37d5-4ba1-e39c-5be0ebb7d978",
        "colab": {
          "base_uri": "https://localhost:8080/"
        }
      },
      "execution_count": null,
      "outputs": [
        {
          "output_type": "stream",
          "name": "stderr",
          "text": [
            "WARNING:apache_beam.options.pipeline_options:Discarding unparseable args: ['-f', '/root/.local/share/jupyter/runtime/kernel-1df5572c-e7e7-4cfe-aff3-b14d06ce38b4.json']\n",
            "WARNING:apache_beam.options.pipeline_options:Discarding unparseable args: ['-f', '/root/.local/share/jupyter/runtime/kernel-1df5572c-e7e7-4cfe-aff3-b14d06ce38b4.json']\n"
          ]
        },
        {
          "output_type": "stream",
          "name": "stdout",
          "text": [
            "OH: 2\n",
            "NY: 1\n",
            "FL: 1\n",
            "TX: 1\n",
            "WA: 1\n",
            "CO: 1\n",
            "MA: 1\n"
          ]
        }
      ]
    },
    {
      "cell_type": "markdown",
      "source": [
        "Watermarks – Like deciding the day’s sales are done even if a few delayed transactions from the card machine might still arrive.\n",
        "\n",
        "\n",
        "Triggers – Sending interim sales reports during the day instead of waiting until the store closes.\n",
        "\n",
        "\n",
        "Allowed lateness – Choosing how long you’ll still accept yesterday’s late sales data before finalizing the daily totals."
      ],
      "metadata": {
        "id": "689i5euAiZSF"
      }
    }
  ],
  "metadata": {
    "colab": {
      "toc_visible": true,
      "provenance": [],
      "include_colab_link": true
    },
    "kernelspec": {
      "display_name": "Python 3",
      "name": "python3"
    }
  },
  "nbformat": 4,
  "nbformat_minor": 0
}