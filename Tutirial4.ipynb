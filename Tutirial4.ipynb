{
  "cells": [
    {
      "cell_type": "markdown",
      "metadata": {
        "id": "view-in-github",
        "colab_type": "text"
      },
      "source": [
        "<a href=\"https://colab.research.google.com/github/Allay-Sizo/Day4/blob/main/Tutirial4.ipynb\" target=\"_parent\"><img src=\"https://colab.research.google.com/assets/colab-badge.svg\" alt=\"Open In Colab\"/></a>"
      ]
    },
    {
      "cell_type": "code",
      "source": [
        "import apache_beam as beam\n",
        "\n",
        "\n",
        "def format_record(record):\n",
        "    return f\"{record['id']};{record['name']};{record['gender']};{record['age']}; \" \\\n",
        "           f\"{record['city']},{record['state']},{record['zip']};{record['date']}\"\n",
        "\n",
        "\n",
        "data = [\n",
        "    {\"id\": 1, \"name\": \"Amy Sullivan\", \"gender\": \"Female\", \"age\": 20,\n",
        "     \"city\": \"Westlake\", \"state\": \"OH\", \"zip\": \"44145\", \"date\": \"2020-08-31\"},\n",
        "    {\"id\": 1, \"name\": \"Paige Dixon\", \"gender\": \"Female\", \"age\": 43,\n",
        "     \"city\": \"Hicksville\", \"state\": \"NY\", \"zip\": \"11801\", \"date\": \"2020-03-22\"}\n",
        "]\n",
        "\n",
        "with beam.Pipeline() as pipeline:\n",
        "    (\n",
        "        pipeline\n",
        "        | \"Create input\" >> beam.Create(data)\n",
        "        | \"Format records\" >> beam.Map(format_record)\n",
        "        | \"Print output\" >> beam.Map(print)\n",
        "    )\n"
      ],
      "metadata": {
        "id": "C7GRiGnPhGp8",
        "outputId": "0b49025f-6537-4ae5-88f5-fe23684c2b57",
        "colab": {
          "base_uri": "https://localhost:8080/"
        }
      },
      "execution_count": null,
      "outputs": [
        {
          "output_type": "stream",
          "name": "stdout",
          "text": [
            "1;Amy Sullivan;Female;20; Westlake,OH,44145;2020-08-31\n",
            "1;Paige Dixon;Female;43; Hicksville,NY,11801;2020-03-22\n"
          ]
        }
      ]
    },
    {
      "cell_type": "code",
      "source": [
        "import apache_beam as beam\n",
        "from apache_beam.options.pipeline_options import PipelineOptions\n",
        "\n",
        "\n",
        "pipeline_options = PipelineOptions()\n",
        "with beam.Pipeline(options=pipeline_options) as pipeline:\n",
        "\n",
        "    (\n",
        "        pipeline\n",
        "        | \"Create sample data\" >> beam.Create([\n",
        "            {\"id\": 1, \"name\": \"Amy Sullivan\", \"gender\": \"Female\", \"age\": 20,\n",
        "             \"city\": \"Westlake\", \"state\": \"OH\", \"zip\": \"44145\", \"date\": \"2020-08-31\"},\n",
        "            {\"id\": 2, \"name\": \"Paige Dixon\", \"gender\": \"Female\", \"age\": 43,\n",
        "             \"city\": \"Hicksville\", \"state\": \"NY\", \"zip\": \"11801\", \"date\": \"2020-03-22\"},\n",
        "            {\"id\": 3, \"name\": \"John Smith\", \"gender\": \"Male\", \"age\": 35,\n",
        "             \"city\": \"Cleveland\", \"state\": \"OH\", \"zip\": \"44109\", \"date\": \"2020-05-11\"},\n",
        "            {\"id\": 4, \"name\": \"Maria Lopez\", \"gender\": \"Female\", \"age\": 29,\n",
        "             \"city\": \"Miami\", \"state\": \"FL\", \"zip\": \"33101\", \"date\": \"2020-06-15\"},\n",
        "            {\"id\": 5, \"name\": \"James Carter\", \"gender\": \"Male\", \"age\": 52,\n",
        "             \"city\": \"Dallas\", \"state\": \"TX\", \"zip\": \"75201\", \"date\": \"2020-07-20\"},\n",
        "            {\"id\": 6, \"name\": \"Sophia Chen\", \"gender\": \"Female\", \"age\": 31,\n",
        "             \"city\": \"Seattle\", \"state\": \"WA\", \"zip\": \"98101\", \"date\": \"2020-02-19\"},\n",
        "            {\"id\": 7, \"name\": \"Michael Brown\", \"gender\": \"Male\", \"age\": 27,\n",
        "             \"city\": \"Denver\", \"state\": \"CO\", \"zip\": \"80202\", \"date\": \"2020-04-05\"},\n",
        "            {\"id\": 8, \"name\": \"Emily Davis\", \"gender\": \"Female\", \"age\": 38,\n",
        "             \"city\": \"Boston\", \"state\": \"MA\", \"zip\": \"02108\", \"date\": \"2020-09-12\"}\n",
        "        ])\n",
        "        | \"Map gender to count\" >> beam.Map(lambda r: (r['gender'], 1))\n",
        "        | \"Count per gender\" >> beam.CombinePerKey(sum)\n",
        "        | \"Format output\" >> beam.Map(lambda kv: f\"{kv[0]}: {kv[1]}\")\n",
        "        | \"Print results\" >> beam.Map(print)\n",
        "    )\n"
      ],
      "metadata": {
        "id": "3fIOQQeahDOl",
        "outputId": "e7283dc9-1ad7-43e2-a29c-977cc5ba25ca",
        "colab": {
          "base_uri": "https://localhost:8080/"
        }
      },
      "execution_count": null,
      "outputs": [
        {
          "output_type": "stream",
          "name": "stderr",
          "text": [
            "WARNING:apache_beam.options.pipeline_options:Discarding unparseable args: ['-f', '/root/.local/share/jupyter/runtime/kernel-1df5572c-e7e7-4cfe-aff3-b14d06ce38b4.json']\n",
            "WARNING:apache_beam.options.pipeline_options:Discarding unparseable args: ['-f', '/root/.local/share/jupyter/runtime/kernel-1df5572c-e7e7-4cfe-aff3-b14d06ce38b4.json']\n"
          ]
        },
        {
          "output_type": "stream",
          "name": "stdout",
          "text": [
            "Female: 5\n",
            "Male: 3\n"
          ]
        }
      ]
    },
    {
      "cell_type": "code",
      "source": [
        "import apache_beam as beam\n",
        "from apache_beam.options.pipeline_options import PipelineOptions\n",
        "\n",
        "pipeline_options = PipelineOptions()\n",
        "with beam.Pipeline(options=pipeline_options) as pipeline:\n",
        "    (\n",
        "        pipeline\n",
        "        | \"Create sample data\" >> beam.Create([\n",
        "            {\"id\": 1, \"name\": \"Amy Sullivan\", \"gender\": \"Female\", \"age\": 20,\n",
        "             \"city\": \"Westlake\", \"state\": \"OH\", \"zip\": \"44145\", \"date\": \"2020-08-31\"},\n",
        "            {\"id\": 2, \"name\": \"Paige Dixon\", \"gender\": \"Female\", \"age\": 43,\n",
        "             \"city\": \"Hicksville\", \"state\": \"NY\", \"zip\": \"11801\", \"date\": \"2020-03-22\"},\n",
        "            {\"id\": 3, \"name\": \"John Smith\", \"gender\": \"Male\", \"age\": 35,\n",
        "             \"city\": \"Cleveland\", \"state\": \"OH\", \"zip\": \"44109\", \"date\": \"2020-05-11\"},\n",
        "            {\"id\": 4, \"name\": \"Maria Lopez\", \"gender\": \"Female\", \"age\": 29,\n",
        "             \"city\": \"Miami\", \"state\": \"FL\", \"zip\": \"33101\", \"date\": \"2020-06-15\"},\n",
        "            {\"id\": 5, \"name\": \"James Carter\", \"gender\": \"Male\", \"age\": 52,\n",
        "             \"city\": \"Dallas\", \"state\": \"TX\", \"zip\": \"75201\", \"date\": \"2020-07-20\"},\n",
        "            {\"id\": 6, \"name\": \"Sophia Chen\", \"gender\": \"Female\", \"age\": 31,\n",
        "             \"city\": \"Seattle\", \"state\": \"WA\", \"zip\": \"98101\", \"date\": \"2020-02-19\"},\n",
        "            {\"id\": 7, \"name\": \"Michael Brown\", \"gender\": \"Male\", \"age\": 27,\n",
        "             \"city\": \"Denver\", \"state\": \"CO\", \"zip\": \"80202\", \"date\": \"2020-04-05\"},\n",
        "            {\"id\": 8, \"name\": \"Emily Davis\", \"gender\": \"Female\", \"age\": 38,\n",
        "             \"city\": \"Boston\", \"state\": \"MA\", \"zip\": \"02108\", \"date\": \"2020-09-12\"},\n",
        "            {\"id\": 9, \"name\": \"Ava Patel\", \"gender\": \"Female\", \"age\": 22,\n",
        "             \"city\": \"Austin\", \"state\": \"TX\", \"zip\": \"73301\", \"date\": \"2020-06-15\"},\n",
        "            {\"id\": 10, \"name\": \"Liam O'Connor\", \"gender\": \"Male\", \"age\": 33,\n",
        "             \"city\": \"Chicago\", \"state\": \"IL\", \"zip\": \"60601\", \"date\": \"2020-07-20\"}\n",
        "        ])\n",
        "        | \"Map date to 1\" >> beam.Map(lambda r: (r['date'], 1))\n",
        "        | \"Count per date\" >> beam.CombinePerKey(sum)\n",
        "        | \"Format output\" >> beam.Map(lambda kv: f\"{kv[0]}: {kv[1]}\")\n",
        "        | \"Print results\" >> beam.Map(print)\n",
        "    )"
      ],
      "metadata": {
        "colab": {
          "base_uri": "https://localhost:8080/"
        },
        "id": "US3vspJumwkg",
        "outputId": "d3a49427-9edc-4137-ba73-4a32035ae55c"
      },
      "execution_count": 3,
      "outputs": [
        {
          "output_type": "stream",
          "name": "stderr",
          "text": [
            "WARNING:apache_beam.options.pipeline_options:Discarding unparseable args: ['-f', '/root/.local/share/jupyter/runtime/kernel-48cd5126-db36-4d49-af44-5ba087aa1ac5.json']\n",
            "WARNING:apache_beam.options.pipeline_options:Discarding unparseable args: ['-f', '/root/.local/share/jupyter/runtime/kernel-48cd5126-db36-4d49-af44-5ba087aa1ac5.json']\n"
          ]
        },
        {
          "output_type": "stream",
          "name": "stdout",
          "text": [
            "2020-08-31: 1\n",
            "2020-03-22: 1\n",
            "2020-05-11: 1\n",
            "2020-06-15: 2\n",
            "2020-07-20: 2\n",
            "2020-02-19: 1\n",
            "2020-04-05: 1\n",
            "2020-09-12: 1\n"
          ]
        }
      ]
    },
    {
      "cell_type": "code",
      "metadata": {
        "colab": {
          "base_uri": "https://localhost:8080/",
          "height": 1000
        },
        "id": "c60b977a",
        "outputId": "273857e1-b888-4055-c216-f15e2986a101"
      },
      "source": [
        "!pip install apache-beam"
      ],
      "execution_count": 3,
      "outputs": [
        {
          "output_type": "stream",
          "name": "stdout",
          "text": [
            "Collecting apache-beam\n",
            "  Downloading apache_beam-2.67.0-cp312-cp312-manylinux_2_17_x86_64.manylinux2014_x86_64.whl.metadata (19 kB)\n",
            "Collecting crcmod<2.0,>=1.7 (from apache-beam)\n",
            "  Downloading crcmod-1.7.tar.gz (89 kB)\n",
            "\u001b[2K     \u001b[90m━━━━━━━━━━━━━━━━━━━━━━━━━━━━━━━━━━━━━━━━\u001b[0m \u001b[32m89.7/89.7 kB\u001b[0m \u001b[31m2.7 MB/s\u001b[0m eta \u001b[36m0:00:00\u001b[0m\n",
            "\u001b[?25h  Preparing metadata (setup.py) ... \u001b[?25l\u001b[?25hdone\n",
            "Requirement already satisfied: orjson<4,>=3.9.7 in /usr/local/lib/python3.12/dist-packages (from apache-beam) (3.11.3)\n",
            "Collecting dill<0.3.2,>=0.3.1.1 (from apache-beam)\n",
            "  Downloading dill-0.3.1.1.tar.gz (151 kB)\n",
            "\u001b[2K     \u001b[90m━━━━━━━━━━━━━━━━━━━━━━━━━━━━━━━━━━━━━━━\u001b[0m \u001b[32m152.0/152.0 kB\u001b[0m \u001b[31m7.1 MB/s\u001b[0m eta \u001b[36m0:00:00\u001b[0m\n",
            "\u001b[?25h  Preparing metadata (setup.py) ... \u001b[?25l\u001b[?25hdone\n",
            "Collecting fastavro<2,>=0.23.6 (from apache-beam)\n",
            "  Downloading fastavro-1.12.0-cp312-cp312-manylinux2014_x86_64.manylinux_2_17_x86_64.manylinux_2_28_x86_64.whl.metadata (5.7 kB)\n",
            "Collecting fasteners<1.0,>=0.3 (from apache-beam)\n",
            "  Downloading fasteners-0.20-py3-none-any.whl.metadata (4.8 kB)\n",
            "Collecting grpcio!=1.48.0,!=1.59.*,!=1.60.*,!=1.61.*,!=1.62.0,!=1.62.1,<1.66.0,<2,>=1.33.1 (from apache-beam)\n",
            "  Downloading grpcio-1.65.5-cp312-cp312-manylinux_2_17_x86_64.manylinux2014_x86_64.whl.metadata (3.3 kB)\n",
            "Collecting hdfs<3.0.0,>=2.1.0 (from apache-beam)\n",
            "  Downloading hdfs-2.7.3.tar.gz (43 kB)\n",
            "\u001b[2K     \u001b[90m━━━━━━━━━━━━━━━━━━━━━━━━━━━━━━━━━━━━━━━━\u001b[0m \u001b[32m43.5/43.5 kB\u001b[0m \u001b[31m2.6 MB/s\u001b[0m eta \u001b[36m0:00:00\u001b[0m\n",
            "\u001b[?25h  Preparing metadata (setup.py) ... \u001b[?25l\u001b[?25hdone\n",
            "Collecting httplib2<0.23.0,>=0.8 (from apache-beam)\n",
            "  Downloading httplib2-0.22.0-py3-none-any.whl.metadata (2.6 kB)\n",
            "Requirement already satisfied: jsonschema<5.0.0,>=4.0.0 in /usr/local/lib/python3.12/dist-packages (from apache-beam) (4.25.1)\n",
            "Collecting jsonpickle<4.0.0,>=3.0.0 (from apache-beam)\n",
            "  Downloading jsonpickle-3.4.2-py3-none-any.whl.metadata (8.1 kB)\n",
            "Requirement already satisfied: numpy<2.3.0,>=1.14.3 in /usr/local/lib/python3.12/dist-packages (from apache-beam) (2.0.2)\n",
            "Collecting objsize<0.8.0,>=0.6.1 (from apache-beam)\n",
            "  Downloading objsize-0.7.1-py3-none-any.whl.metadata (12 kB)\n",
            "Requirement already satisfied: packaging>=22.0 in /usr/local/lib/python3.12/dist-packages (from apache-beam) (25.0)\n",
            "Collecting pymongo<5.0.0,>=3.8.0 (from apache-beam)\n",
            "  Downloading pymongo-4.15.1-cp312-cp312-manylinux_2_17_x86_64.manylinux2014_x86_64.whl.metadata (22 kB)\n",
            "Requirement already satisfied: proto-plus<2,>=1.7.1 in /usr/local/lib/python3.12/dist-packages (from apache-beam) (1.26.1)\n",
            "Requirement already satisfied: protobuf!=4.0.*,!=4.21.*,!=4.22.0,!=4.23.*,!=4.24.*,<6.0.0.dev0,>=3.20.3 in /usr/local/lib/python3.12/dist-packages (from apache-beam) (5.29.5)\n",
            "Collecting pydot<2,>=1.2.0 (from apache-beam)\n",
            "  Downloading pydot-1.4.2-py2.py3-none-any.whl.metadata (8.0 kB)\n",
            "Requirement already satisfied: python-dateutil<3,>=2.8.0 in /usr/local/lib/python3.12/dist-packages (from apache-beam) (2.9.0.post0)\n",
            "Requirement already satisfied: pytz>=2018.3 in /usr/local/lib/python3.12/dist-packages (from apache-beam) (2025.2)\n",
            "Collecting redis<6,>=5.0.0 (from apache-beam)\n",
            "  Downloading redis-5.3.1-py3-none-any.whl.metadata (9.2 kB)\n",
            "Requirement already satisfied: regex>=2020.6.8 in /usr/local/lib/python3.12/dist-packages (from apache-beam) (2024.11.6)\n",
            "Requirement already satisfied: requests<3.0.0,>=2.32.4 in /usr/local/lib/python3.12/dist-packages (from apache-beam) (2.32.4)\n",
            "Requirement already satisfied: sortedcontainers>=2.4.0 in /usr/local/lib/python3.12/dist-packages (from apache-beam) (2.4.0)\n",
            "Requirement already satisfied: typing-extensions>=3.7.0 in /usr/local/lib/python3.12/dist-packages (from apache-beam) (4.15.0)\n",
            "Requirement already satisfied: zstandard<1,>=0.18.0 in /usr/local/lib/python3.12/dist-packages (from apache-beam) (0.24.0)\n",
            "Requirement already satisfied: pyyaml<7.0.0,>=3.12 in /usr/local/lib/python3.12/dist-packages (from apache-beam) (6.0.2)\n",
            "Collecting pymilvus<3.0.0,>=2.5.10 (from apache-beam)\n",
            "  Downloading pymilvus-2.6.2-py3-none-any.whl.metadata (6.5 kB)\n",
            "Requirement already satisfied: pyarrow<19.0.0,>=3.0.0 in /usr/local/lib/python3.12/dist-packages (from apache-beam) (18.1.0)\n",
            "Collecting pyarrow-hotfix<1 (from apache-beam)\n",
            "  Downloading pyarrow_hotfix-0.7-py3-none-any.whl.metadata (3.6 kB)\n",
            "Collecting docopt (from hdfs<3.0.0,>=2.1.0->apache-beam)\n",
            "  Downloading docopt-0.6.2.tar.gz (25 kB)\n",
            "  Preparing metadata (setup.py) ... \u001b[?25l\u001b[?25hdone\n",
            "Requirement already satisfied: six>=1.9.0 in /usr/local/lib/python3.12/dist-packages (from hdfs<3.0.0,>=2.1.0->apache-beam) (1.17.0)\n",
            "Requirement already satisfied: pyparsing!=3.0.0,!=3.0.1,!=3.0.2,!=3.0.3,<4,>=2.4.2 in /usr/local/lib/python3.12/dist-packages (from httplib2<0.23.0,>=0.8->apache-beam) (3.2.3)\n",
            "Requirement already satisfied: attrs>=22.2.0 in /usr/local/lib/python3.12/dist-packages (from jsonschema<5.0.0,>=4.0.0->apache-beam) (25.3.0)\n",
            "Requirement already satisfied: jsonschema-specifications>=2023.03.6 in /usr/local/lib/python3.12/dist-packages (from jsonschema<5.0.0,>=4.0.0->apache-beam) (2025.9.1)\n",
            "Requirement already satisfied: referencing>=0.28.4 in /usr/local/lib/python3.12/dist-packages (from jsonschema<5.0.0,>=4.0.0->apache-beam) (0.36.2)\n",
            "Requirement already satisfied: rpds-py>=0.7.1 in /usr/local/lib/python3.12/dist-packages (from jsonschema<5.0.0,>=4.0.0->apache-beam) (0.27.1)\n",
            "Requirement already satisfied: setuptools>69 in /usr/local/lib/python3.12/dist-packages (from pymilvus<3.0.0,>=2.5.10->apache-beam) (75.2.0)\n",
            "INFO: pip is looking at multiple versions of pymilvus to determine which version is compatible with other requirements. This could take a while.\n",
            "Collecting pymilvus<3.0.0,>=2.5.10 (from apache-beam)\n",
            "  Downloading pymilvus-2.6.1-py3-none-any.whl.metadata (6.5 kB)\n",
            "  Downloading pymilvus-2.6.0-py3-none-any.whl.metadata (5.8 kB)\n",
            "  Downloading pymilvus-2.5.15-py3-none-any.whl.metadata (5.8 kB)\n",
            "Requirement already satisfied: python-dotenv<2.0.0,>=1.0.1 in /usr/local/lib/python3.12/dist-packages (from pymilvus<3.0.0,>=2.5.10->apache-beam) (1.1.1)\n",
            "Collecting ujson>=2.0.0 (from pymilvus<3.0.0,>=2.5.10->apache-beam)\n",
            "  Downloading ujson-5.11.0-cp312-cp312-manylinux_2_24_x86_64.manylinux_2_28_x86_64.whl.metadata (9.4 kB)\n",
            "Requirement already satisfied: pandas>=1.2.4 in /usr/local/lib/python3.12/dist-packages (from pymilvus<3.0.0,>=2.5.10->apache-beam) (2.2.2)\n",
            "Collecting milvus-lite>=2.4.0 (from pymilvus<3.0.0,>=2.5.10->apache-beam)\n",
            "  Downloading milvus_lite-2.5.1-py3-none-manylinux2014_x86_64.whl.metadata (10.0 kB)\n",
            "Collecting dnspython<3.0.0,>=1.16.0 (from pymongo<5.0.0,>=3.8.0->apache-beam)\n",
            "  Downloading dnspython-2.8.0-py3-none-any.whl.metadata (5.7 kB)\n",
            "Requirement already satisfied: PyJWT>=2.9.0 in /usr/local/lib/python3.12/dist-packages (from redis<6,>=5.0.0->apache-beam) (2.10.1)\n",
            "Requirement already satisfied: charset_normalizer<4,>=2 in /usr/local/lib/python3.12/dist-packages (from requests<3.0.0,>=2.32.4->apache-beam) (3.4.3)\n",
            "Requirement already satisfied: idna<4,>=2.5 in /usr/local/lib/python3.12/dist-packages (from requests<3.0.0,>=2.32.4->apache-beam) (3.10)\n",
            "Requirement already satisfied: urllib3<3,>=1.21.1 in /usr/local/lib/python3.12/dist-packages (from requests<3.0.0,>=2.32.4->apache-beam) (2.5.0)\n",
            "Requirement already satisfied: certifi>=2017.4.17 in /usr/local/lib/python3.12/dist-packages (from requests<3.0.0,>=2.32.4->apache-beam) (2025.8.3)\n",
            "Requirement already satisfied: tqdm in /usr/local/lib/python3.12/dist-packages (from milvus-lite>=2.4.0->pymilvus<3.0.0,>=2.5.10->apache-beam) (4.67.1)\n",
            "Requirement already satisfied: tzdata>=2022.7 in /usr/local/lib/python3.12/dist-packages (from pandas>=1.2.4->pymilvus<3.0.0,>=2.5.10->apache-beam) (2025.2)\n",
            "Downloading apache_beam-2.67.0-cp312-cp312-manylinux_2_17_x86_64.manylinux2014_x86_64.whl (17.1 MB)\n",
            "\u001b[2K   \u001b[90m━━━━━━━━━━━━━━━━━━━━━━━━━━━━━━━━━━━━━━━━\u001b[0m \u001b[32m17.1/17.1 MB\u001b[0m \u001b[31m90.5 MB/s\u001b[0m eta \u001b[36m0:00:00\u001b[0m\n",
            "\u001b[?25hDownloading fastavro-1.12.0-cp312-cp312-manylinux2014_x86_64.manylinux_2_17_x86_64.manylinux_2_28_x86_64.whl (3.5 MB)\n",
            "\u001b[2K   \u001b[90m━━━━━━━━━━━━━━━━━━━━━━━━━━━━━━━━━━━━━━━━\u001b[0m \u001b[32m3.5/3.5 MB\u001b[0m \u001b[31m94.9 MB/s\u001b[0m eta \u001b[36m0:00:00\u001b[0m\n",
            "\u001b[?25hDownloading fasteners-0.20-py3-none-any.whl (18 kB)\n",
            "Downloading grpcio-1.65.5-cp312-cp312-manylinux_2_17_x86_64.manylinux2014_x86_64.whl (5.6 MB)\n",
            "\u001b[2K   \u001b[90m━━━━━━━━━━━━━━━━━━━━━━━━━━━━━━━━━━━━━━━━\u001b[0m \u001b[32m5.6/5.6 MB\u001b[0m \u001b[31m91.6 MB/s\u001b[0m eta \u001b[36m0:00:00\u001b[0m\n",
            "\u001b[?25hDownloading httplib2-0.22.0-py3-none-any.whl (96 kB)\n",
            "\u001b[2K   \u001b[90m━━━━━━━━━━━━━━━━━━━━━━━━━━━━━━━━━━━━━━━━\u001b[0m \u001b[32m96.9/96.9 kB\u001b[0m \u001b[31m7.9 MB/s\u001b[0m eta \u001b[36m0:00:00\u001b[0m\n",
            "\u001b[?25hDownloading jsonpickle-3.4.2-py3-none-any.whl (46 kB)\n",
            "\u001b[2K   \u001b[90m━━━━━━━━━━━━━━━━━━━━━━━━━━━━━━━━━━━━━━━━\u001b[0m \u001b[32m46.3/46.3 kB\u001b[0m \u001b[31m4.0 MB/s\u001b[0m eta \u001b[36m0:00:00\u001b[0m\n",
            "\u001b[?25hDownloading objsize-0.7.1-py3-none-any.whl (11 kB)\n",
            "Downloading pyarrow_hotfix-0.7-py3-none-any.whl (7.9 kB)\n",
            "Downloading pydot-1.4.2-py2.py3-none-any.whl (21 kB)\n",
            "Downloading pymilvus-2.5.15-py3-none-any.whl (241 kB)\n",
            "\u001b[2K   \u001b[90m━━━━━━━━━━━━━━━━━━━━━━━━━━━━━━━━━━━━━━━━\u001b[0m \u001b[32m241.7/241.7 kB\u001b[0m \u001b[31m20.5 MB/s\u001b[0m eta \u001b[36m0:00:00\u001b[0m\n",
            "\u001b[?25hDownloading pymongo-4.15.1-cp312-cp312-manylinux_2_17_x86_64.manylinux2014_x86_64.whl (1.7 MB)\n",
            "\u001b[2K   \u001b[90m━━━━━━━━━━━━━━━━━━━━━━━━━━━━━━━━━━━━━━━━\u001b[0m \u001b[32m1.7/1.7 MB\u001b[0m \u001b[31m61.2 MB/s\u001b[0m eta \u001b[36m0:00:00\u001b[0m\n",
            "\u001b[?25hDownloading redis-5.3.1-py3-none-any.whl (272 kB)\n",
            "\u001b[2K   \u001b[90m━━━━━━━━━━━━━━━━━━━━━━━━━━━━━━━━━━━━━━━━\u001b[0m \u001b[32m272.8/272.8 kB\u001b[0m \u001b[31m18.4 MB/s\u001b[0m eta \u001b[36m0:00:00\u001b[0m\n",
            "\u001b[?25hDownloading dnspython-2.8.0-py3-none-any.whl (331 kB)\n",
            "\u001b[2K   \u001b[90m━━━━━━━━━━━━━━━━━━━━━━━━━━━━━━━━━━━━━━━━\u001b[0m \u001b[32m331.1/331.1 kB\u001b[0m \u001b[31m25.0 MB/s\u001b[0m eta \u001b[36m0:00:00\u001b[0m\n",
            "\u001b[?25hDownloading milvus_lite-2.5.1-py3-none-manylinux2014_x86_64.whl (55.3 MB)\n",
            "\u001b[2K   \u001b[90m━━━━━━━━━━━━━━━━━━━━━━━━━━━━━━━━━━━━━━━━\u001b[0m \u001b[32m55.3/55.3 MB\u001b[0m \u001b[31m14.2 MB/s\u001b[0m eta \u001b[36m0:00:00\u001b[0m\n",
            "\u001b[?25hDownloading ujson-5.11.0-cp312-cp312-manylinux_2_24_x86_64.manylinux_2_28_x86_64.whl (57 kB)\n",
            "\u001b[2K   \u001b[90m━━━━━━━━━━━━━━━━━━━━━━━━━━━━━━━━━━━━━━━━\u001b[0m \u001b[32m57.4/57.4 kB\u001b[0m \u001b[31m4.2 MB/s\u001b[0m eta \u001b[36m0:00:00\u001b[0m\n",
            "\u001b[?25hBuilding wheels for collected packages: crcmod, dill, hdfs, docopt\n",
            "  Building wheel for crcmod (setup.py) ... \u001b[?25l\u001b[?25hdone\n",
            "  Created wheel for crcmod: filename=crcmod-1.7-cp312-cp312-linux_x86_64.whl size=31833 sha256=c94ff882e758d5212bf60e48b7a640d164296a4fdddb7a01338e603ffee99cdb\n",
            "  Stored in directory: /root/.cache/pip/wheels/76/08/0b/caa8b1380122cbfe6a03eaccbec0f63c67e619af4e30ca5e2a\n",
            "  Building wheel for dill (setup.py) ... \u001b[?25l\u001b[?25hdone\n",
            "  Created wheel for dill: filename=dill-0.3.1.1-py3-none-any.whl size=78544 sha256=88ba7b5909c557220991434035c708781efd056480acb79ecf72ce640bc71a1b\n",
            "  Stored in directory: /root/.cache/pip/wheels/84/0e/3b/161164c3e023dd2f01045d3848c0f5f96f4dd9a058a2cd300b\n",
            "  Building wheel for hdfs (setup.py) ... \u001b[?25l\u001b[?25hdone\n",
            "  Created wheel for hdfs: filename=hdfs-2.7.3-py3-none-any.whl size=34324 sha256=06ee3860b162e05fa1387f9e9f1e6330412b00ec0a4cf572f6f515fec88814cd\n",
            "  Stored in directory: /root/.cache/pip/wheels/97/ae/d9/536505928dd3a458b206013b02625df8f12d22fa154f2bfd65\n",
            "  Building wheel for docopt (setup.py) ... \u001b[?25l\u001b[?25hdone\n",
            "  Created wheel for docopt: filename=docopt-0.6.2-py2.py3-none-any.whl size=13706 sha256=45cb8a160b10942fce9769f1efd4db44573a11620408ddc24b207ced05f3f0ae\n",
            "  Stored in directory: /root/.cache/pip/wheels/1a/bf/a1/4cee4f7678c68c5875ca89eaccf460593539805c3906722228\n",
            "Successfully built crcmod dill hdfs docopt\n",
            "Installing collected packages: docopt, crcmod, ujson, redis, pydot, pyarrow-hotfix, objsize, milvus-lite, jsonpickle, httplib2, grpcio, fasteners, fastavro, dnspython, dill, pymongo, hdfs, pymilvus, apache-beam\n",
            "  Attempting uninstall: pydot\n",
            "    Found existing installation: pydot 3.0.4\n",
            "    Uninstalling pydot-3.0.4:\n",
            "      Successfully uninstalled pydot-3.0.4\n",
            "  Attempting uninstall: jsonpickle\n",
            "    Found existing installation: jsonpickle 4.1.1\n",
            "    Uninstalling jsonpickle-4.1.1:\n",
            "      Successfully uninstalled jsonpickle-4.1.1\n",
            "  Attempting uninstall: httplib2\n",
            "    Found existing installation: httplib2 0.30.0\n",
            "    Uninstalling httplib2-0.30.0:\n",
            "      Successfully uninstalled httplib2-0.30.0\n",
            "  Attempting uninstall: grpcio\n",
            "    Found existing installation: grpcio 1.74.0\n",
            "    Uninstalling grpcio-1.74.0:\n",
            "      Successfully uninstalled grpcio-1.74.0\n",
            "  Attempting uninstall: dill\n",
            "    Found existing installation: dill 0.3.8\n",
            "    Uninstalling dill-0.3.8:\n",
            "      Successfully uninstalled dill-0.3.8\n",
            "\u001b[31mERROR: pip's dependency resolver does not currently take into account all the packages that are installed. This behaviour is the source of the following dependency conflicts.\n",
            "grpcio-status 1.71.2 requires grpcio>=1.71.2, but you have grpcio 1.65.5 which is incompatible.\n",
            "multiprocess 0.70.16 requires dill>=0.3.8, but you have dill 0.3.1.1 which is incompatible.\u001b[0m\u001b[31m\n",
            "\u001b[0mSuccessfully installed apache-beam-2.67.0 crcmod-1.7 dill-0.3.1.1 dnspython-2.8.0 docopt-0.6.2 fastavro-1.12.0 fasteners-0.20 grpcio-1.65.5 hdfs-2.7.3 httplib2-0.22.0 jsonpickle-3.4.2 milvus-lite-2.5.1 objsize-0.7.1 pyarrow-hotfix-0.7 pydot-1.4.2 pymilvus-2.5.15 pymongo-4.15.1 redis-5.3.1 ujson-5.11.0\n"
          ]
        },
        {
          "output_type": "display_data",
          "data": {
            "application/vnd.colab-display-data+json": {
              "pip_warning": {
                "packages": [
                  "httplib2"
                ]
              },
              "id": "3a9e15581c344c00a63852dd4e008ec6"
            }
          },
          "metadata": {}
        }
      ]
    },
    {
      "cell_type": "code",
      "source": [
        "import apache_beam as beam\n",
        "from apache_beam.options.pipeline_options import PipelineOptions\n",
        "\n",
        "def to_kv_state(_row):\n",
        "    return _row['state'], 1\n",
        "\n",
        "def fmt(kv):\n",
        "    state, count = kv\n",
        "    return f\"{state}: {count}\"\n",
        "\n",
        "if __name__ == \"__main__\":\n",
        "\n",
        "    pipeline_options = PipelineOptions()\n",
        "    with beam.Pipeline(options=pipeline_options) as pipeline:\n",
        "\n",
        "        counts = (\n",
        "            pipeline\n",
        "            | \"Create sample data\" >> beam.Create([\n",
        "                {\"id\": 1, \"name\": \"Amy Sullivan\", \"gender\": \"Female\", \"age\": 20,\n",
        "                 \"city\": \"Westlake\", \"state\": \"OH\", \"zip\": \"44145\", \"date\": \"2020-08-31\"},\n",
        "                {\"id\": 2, \"name\": \"Paige Dixon\", \"gender\": \"Female\", \"age\": 43,\n",
        "                 \"city\": \"Hicksville\", \"state\": \"NY\", \"zip\": \"11801\", \"date\": \"2020-03-22\"},\n",
        "                {\"id\": 3, \"name\": \"John Smith\", \"gender\": \"Male\", \"age\": 35,\n",
        "                 \"city\": \"Cleveland\", \"state\": \"OH\", \"zip\": \"44109\", \"date\": \"2020-05-11\"},\n",
        "                {\"id\": 4, \"name\": \"Maria Lopez\", \"gender\": \"Female\", \"age\": 29,\n",
        "                 \"city\": \"Miami\", \"state\": \"FL\", \"zip\": \"33101\", \"date\": \"2020-06-15\"},\n",
        "                {\"id\": 5, \"name\": \"James Carter\", \"gender\": \"Male\", \"age\": 52,\n",
        "                 \"city\": \"Dallas\", \"state\": \"TX\", \"zip\": \"75201\", \"date\": \"2020-07-20\"},\n",
        "                {\"id\": 6, \"name\": \"Sophia Chen\", \"gender\": \"Female\", \"age\": 31,\n",
        "                 \"city\": \"Seattle\", \"state\": \"WA\", \"zip\": \"98101\", \"date\": \"2020-02-19\"},\n",
        "                {\"id\": 7, \"name\": \"Michael Brown\", \"gender\": \"Male\", \"age\": 27,\n",
        "                 \"city\": \"Denver\", \"state\": \"CO\", \"zip\": \"80202\", \"date\": \"2020-04-05\"},\n",
        "                {\"id\": 8, \"name\": \"Emily Davis\", \"gender\": \"Female\", \"age\": 38,\n",
        "                 \"city\": \"Boston\", \"state\": \"MA\", \"zip\": \"02108\", \"date\": \"2020-09-12\"}\n",
        "            ])\n",
        "            | \"Map state to 1\" >> beam.Map(to_kv_state)\n",
        "            | \"Count per state\" >> beam.CombinePerKey(sum)\n",
        "        )\n",
        "\n",
        "\n",
        "        _ = counts | \"Format for print\" >> beam.Map(fmt) | \"Print\" >> beam.Map(print)\n",
        "\n",
        "\n",
        "        _ = (counts\n",
        "             | \"Format for file\" >> beam.Map(fmt)\n",
        "             | \"Write to text\" >> beam.io.WriteToText(\"state_counts\", num_shards=1))\n"
      ],
      "metadata": {
        "id": "jLzS6imdhxeP",
        "outputId": "7ef1be6b-c073-47b5-95ac-0a41fdf79b31",
        "colab": {
          "base_uri": "https://localhost:8080/",
          "height": 367
        }
      },
      "execution_count": 2,
      "outputs": [
        {
          "output_type": "stream",
          "name": "stderr",
          "text": [
            "WARNING:apache_beam.runners.interactive.interactive_environment:Dependencies required for Interactive Beam PCollection visualization are not available, please use: `pip install apache-beam[interactive]` to install necessary dependencies to enable all data visualization features.\n"
          ]
        },
        {
          "output_type": "display_data",
          "data": {
            "application/javascript": [
              "\n",
              "        if (typeof window.interactive_beam_jquery == 'undefined') {\n",
              "          var jqueryScript = document.createElement('script');\n",
              "          jqueryScript.src = 'https://code.jquery.com/jquery-3.4.1.slim.min.js';\n",
              "          jqueryScript.type = 'text/javascript';\n",
              "          jqueryScript.onload = function() {\n",
              "            var datatableScript = document.createElement('script');\n",
              "            datatableScript.src = 'https://cdn.datatables.net/1.10.20/js/jquery.dataTables.min.js';\n",
              "            datatableScript.type = 'text/javascript';\n",
              "            datatableScript.onload = function() {\n",
              "              window.interactive_beam_jquery = jQuery.noConflict(true);\n",
              "              window.interactive_beam_jquery(document).ready(function($){\n",
              "                \n",
              "              });\n",
              "            }\n",
              "            document.head.appendChild(datatableScript);\n",
              "          };\n",
              "          document.head.appendChild(jqueryScript);\n",
              "        } else {\n",
              "          window.interactive_beam_jquery(document).ready(function($){\n",
              "            \n",
              "          });\n",
              "        }"
            ]
          },
          "metadata": {}
        },
        {
          "output_type": "stream",
          "name": "stderr",
          "text": [
            "WARNING:apache_beam.options.pipeline_options:Discarding unparseable args: ['-f', '/root/.local/share/jupyter/runtime/kernel-48cd5126-db36-4d49-af44-5ba087aa1ac5.json']\n",
            "WARNING:apache_beam.options.pipeline_options:Discarding unparseable args: ['-f', '/root/.local/share/jupyter/runtime/kernel-48cd5126-db36-4d49-af44-5ba087aa1ac5.json']\n"
          ]
        },
        {
          "output_type": "stream",
          "name": "stdout",
          "text": [
            "OH: 2\n",
            "NY: 1\n",
            "FL: 1\n",
            "TX: 1\n",
            "WA: 1\n",
            "CO: 1\n",
            "MA: 1\n"
          ]
        },
        {
          "output_type": "stream",
          "name": "stderr",
          "text": [
            "WARNING:apache_beam.options.pipeline_options:Discarding unparseable args: ['-f', '/root/.local/share/jupyter/runtime/kernel-48cd5126-db36-4d49-af44-5ba087aa1ac5.json']\n",
            "WARNING:apache_beam.options.pipeline_options:Discarding unparseable args: ['-f', '/root/.local/share/jupyter/runtime/kernel-48cd5126-db36-4d49-af44-5ba087aa1ac5.json']\n"
          ]
        },
        {
          "output_type": "stream",
          "name": "stdout",
          "text": [
            "OH: 2\n",
            "NY: 1\n",
            "FL: 1\n",
            "TX: 1\n",
            "WA: 1\n",
            "CO: 1\n",
            "MA: 1\n"
          ]
        }
      ]
    },
    {
      "cell_type": "markdown",
      "source": [
        "Watermarks – Like deciding the day’s sales are done even if a few delayed transactions from the card machine might still arrive.\n",
        "\n",
        "\n",
        "Triggers – Sending interim sales reports during the day instead of waiting until the store closes.\n",
        "\n",
        "\n",
        "Allowed lateness – Choosing how long you’ll still accept yesterday’s late sales data before finalizing the daily totals."
      ],
      "metadata": {
        "id": "689i5euAiZSF"
      }
    }
  ],
  "metadata": {
    "colab": {
      "toc_visible": true,
      "provenance": [],
      "name": "Tutirial4.ipynb",
      "include_colab_link": true
    },
    "kernelspec": {
      "display_name": "Python 3",
      "name": "python3"
    }
  },
  "nbformat": 4,
  "nbformat_minor": 0
}